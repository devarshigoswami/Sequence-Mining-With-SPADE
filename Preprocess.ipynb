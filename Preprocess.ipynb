{
 "cells": [
  {
   "cell_type": "code",
   "execution_count": 11,
   "metadata": {},
   "outputs": [],
   "source": [
    "import csv\n",
    "import numpy as np"
   ]
  },
  {
   "cell_type": "code",
   "execution_count": 12,
   "metadata": {},
   "outputs": [],
   "source": [
    "min_support=7000\n",
    "inputfile = csv.reader(open('Demo.csv','r'))\n",
    "outputfile = open('dataset.txt','w')\n",
    "event_id=[[] for _ in range(9000)]\n",
    "d=dict()\n",
    "seq_event=dict()"
   ]
  },
  {
   "cell_type": "code",
   "execution_count": 13,
   "metadata": {},
   "outputs": [],
   "source": [
    "i=0\n",
    "for row in inputfile:\n",
    "    if(i>0):\n",
    "        out_str='I'\n",
    "        customer=row[0]\n",
    "        customer=customer.split('CS')\n",
    "        customer=customer[1]\n",
    "        customer=int(customer)-1111\n",
    "        date=row[1]\n",
    "        date=date.split('-')\n",
    "        date=date[2]\n",
    "        item=row[2]\n",
    "        item=int(int(item)/10)\n",
    "        out_str+=str(item)\n",
    "        seq_event[out_str]=[]\n",
    "        d[str(customer)+\"-\"+str(date)]=[]\n",
    "        if date not in event_id[customer]:\n",
    "            event_id[customer].append(date)\n",
    "        outputfile.write(str(customer)+\" \"+date+\" \"+out_str+\"\\n\")\n",
    "        event_id[customer].sort()\n",
    "    i+=1"
   ]
  },
  {
   "cell_type": "code",
   "execution_count": 14,
   "metadata": {},
   "outputs": [],
   "source": [
    "i=0\n",
    "inputfile = csv.reader(open('Demo.csv','r'))\n",
    "for row in inputfile:\n",
    "    if(i>0):\n",
    "        out_str='I'\n",
    "        customer=row[0]\n",
    "        customer=customer.split('CS')\n",
    "        customer=customer[1]\n",
    "        customer=int(customer)-1111\n",
    "        date=row[1]\n",
    "        date=date.split('-')\n",
    "        date=date[2]\n",
    "        item=row[2]\n",
    "        item=int(int(item)/10)\n",
    "        out_str+=str(item)\n",
    "        if out_str not in d[str(customer)+\"-\"+str(date)]: \n",
    "            d[str(customer)+\"-\"+str(date)].append(out_str)\n",
    "        d[str(customer)+\"-\"+str(date)].sort()\n",
    "    i+=1                "
   ]
  },
  {
   "cell_type": "code",
   "execution_count": 15,
   "metadata": {},
   "outputs": [],
   "source": [
    "#for item in d:\n",
    "    #for element in d[item]:\n",
    "        #if item not in seq_event[element]:\n",
    "            #seq_event[element].append(item)\n",
    "    "
   ]
  },
  {
   "cell_type": "code",
   "execution_count": 16,
   "metadata": {},
   "outputs": [],
   "source": [
    "i=0\n",
    "outputfile = open('data1.txt','w')\n",
    "for sequences in d:\n",
    "    seq=sequences.split('-')\n",
    "    a=seq[0]\n",
    "    b=seq[1]\n",
    "    if i<1000:\n",
    "        outputfile.write(a+\" \"+b+\" \"+str(len(d[sequences])))\n",
    "    for items in d[sequences]:\n",
    "        items=items.split('I')\n",
    "        if i<1000:\n",
    "            outputfile.write(\" \"+items[1])\n",
    "    if i<1000:\n",
    "        outputfile.write(\"\\n\")\n",
    "    i+=1\n",
    "        "
   ]
  },
  {
   "cell_type": "code",
   "execution_count": null,
   "metadata": {},
   "outputs": [],
   "source": []
  },
  {
   "cell_type": "code",
   "execution_count": null,
   "metadata": {},
   "outputs": [],
   "source": []
  },
  {
   "cell_type": "code",
   "execution_count": null,
   "metadata": {},
   "outputs": [],
   "source": [
    "\n"
   ]
  },
  {
   "cell_type": "code",
   "execution_count": null,
   "metadata": {},
   "outputs": [],
   "source": []
  },
  {
   "cell_type": "code",
   "execution_count": null,
   "metadata": {},
   "outputs": [],
   "source": []
  }
 ],
 "metadata": {
  "kernelspec": {
   "display_name": "Python 3",
   "language": "python",
   "name": "python3"
  },
  "language_info": {
   "codemirror_mode": {
    "name": "ipython",
    "version": 3
   },
   "file_extension": ".py",
   "mimetype": "text/x-python",
   "name": "python",
   "nbconvert_exporter": "python",
   "pygments_lexer": "ipython3",
   "version": "3.7.2"
  }
 },
 "nbformat": 4,
 "nbformat_minor": 2
}
