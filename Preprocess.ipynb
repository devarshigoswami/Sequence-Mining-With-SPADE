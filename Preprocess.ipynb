{
 "cells": [
  {
   "cell_type": "code",
   "execution_count": 11,
   "metadata": {},
   "outputs": [],
   "source": [
    "import csv\n",
    "import numpy as np"
   ]
  },
  {
   "cell_type": "code",
   "execution_count": 12,
   "metadata": {},
   "outputs": [],
   "source": [
    "min_support=7000\n",
    "inputfile = csv.reader(open('Demo.csv','r'))\n",
    "outputfile = open('dataset.txt','w')\n",
    "event_id=[[] for _ in range(9000)]\n",
    "d=dict()\n",
    "seq_event=dict()"
   ]
  },
  {
   "cell_type": "code",
   "execution_count": null,
   "metadata": {},
   "outputs": [],
   "source": [
    "i=0\n",
    "for row in inputfile:\n",
    "    if(i>0):\n",
    "        out_str='I'\n",
    "        customer=row[0]\n",
    "        customer=customer.split('CS')\n",
    "        customer=customer[1]\n",
    "        customer=int(customer)-1111\n",
    "        date=row[1]\n",
    "        date=date.split('-')\n",
    "        date=date[2]\n",
    "        item=row[2]\n",
    "        item=int(int(item)/10)\n",
    "        out_str+=str(item)\n",
    "        seq_event[out_str]=[]\n",
    "        d[str(customer)+\"-\"+str(date)]=[]\n",
    "        if date not in event_id[customer]:\n",
    "            event_id[customer].append(date)\n",
    "        outputfile.write(str(customer)+\" \"+date+\" \"+out_str+\"\\n\")\n",
    "        event_id[customer].sort()\n",
    "    i+=1"
   ]
  },
  {
   "cell_type": "code",
   "execution_count": null,
   "metadata": {},
   "outputs": [],
   "source": [
    "i=0\n",
    "inputfile = csv.reader(open('Demo.csv','r'))\n",
    "for row in inputfile:\n",
    "    if(i>0):\n",
    "        out_str='I'\n",
    "        customer=row[0]\n",
    "        customer=customer.split('CS')\n",
    "        customer=customer[1]\n",
    "        customer=int(customer)-1111\n",
    "        date=row[1]\n",
    "        date=date.split('-')\n",
    "        date=date[2]\n",
    "        item=row[2]\n",
    "        item=int(int(item)/10)\n",
    "        out_str+=str(item)\n",
    "        if out_str not in d[str(customer)+\"-\"+str(date)]: \n",
    "            d[str(customer)+\"-\"+str(date)].append(out_str)\n",
    "        d[str(customer)+\"-\"+str(date)].sort()\n",
    "    i+=1                "
   ]
  },
  {
   "cell_type": "code",
   "execution_count": 5,
   "metadata": {},
   "outputs": [],
   "source": [
    "#for item in d:\n",
    "    #for element in d[item]:\n",
    "        #if item not in seq_event[element]:\n",
    "            #seq_event[element].append(item)\n",
    "    "
   ]
  },
  {
   "cell_type": "code",
   "execution_count": 6,
   "metadata": {},
   "outputs": [],
   "source": [
    "i=0\n",
    "outputfile = open('data1.txt','w')\n",
    "for sequences in d:\n",
    "    seq=sequences.split('-')\n",
    "    a=seq[0]\n",
    "    b=seq[1]\n",
    "    if i<1000:\n",
    "        outputfile.write(a+\" \"+b+\" \"+str(len(d[sequences])))\n",
    "    for items in d[sequences]:\n",
    "        items=items.split('I')\n",
    "        if i<1000:\n",
    "            outputfile.write(\" \"+items[1])\n",
    "    if i<1000:\n",
    "        outputfile.write(\"\\n\")\n",
    "    i+=1\n",
    "        "
   ]
  },
  {
   "cell_type": "code",
   "execution_count": 7,
   "metadata": {},
   "outputs": [],
   "source": [
    "from pycspade.helpers import spade, print_result"
   ]
  },
  {
   "cell_type": "code",
   "execution_count": 8,
   "metadata": {},
   "outputs": [],
   "source": [
    "result = spade(filename='data1.txt', support=0.5, parse=True)"
   ]
  },
  {
   "cell_type": "code",
   "execution_count": 10,
   "metadata": {},
   "outputs": [
    {
     "name": "stdout",
     "output_type": "stream",
     "text": [
      "   Occurs     Accum   Support    Confid      Lift                                                                         Sequence\n",
      "       88       385 0.7927928       N/A       N/A                                                                             (10) \n",
      "       58        58 0.5225225 0.6590909 0.7172460                                                                        (10)->(4) \n",
      "       62        62 0.5585586 0.7045455 0.7448052                                                                        (10)->(5) \n",
      "       68        68 0.6126126 0.7727273 0.8168831                                                                        (10)->(6) \n",
      "       59        59 0.5315315 0.6704545 0.6955183                                                                        (10)->(7) \n",
      "       63        63 0.5675676 0.7159091 0.7426720                                                                        (10)->(8) \n",
      "       67        67 0.6036036 0.7613636 0.7825126                                                                        (10)->(9) \n",
      "       88       392 0.7927928       N/A       N/A                                                                              (3) \n",
      "       61        61 0.5495495 0.6931818 0.7543449                                                                         (3)->(4) \n",
      "       59        59 0.5315315 0.6704545 0.7087662                                                                         (3)->(5) \n",
      "       64        64 0.5765766 0.7272727 0.7688312                                                                         (3)->(6) \n",
      "       60        60 0.5405405 0.6818182 0.7073067                                                                         (3)->(7) \n",
      "       60        60 0.5405405 0.6818182 0.7073067                                                                         (3)->(8) \n",
      "       71        71 0.6396396 0.8068182 0.8292298                                                                         (3)->(9) \n",
      "      102       679 0.9189189       N/A       N/A                                                                              (4) \n",
      "       58        58 0.5225225 0.5686275 0.7172460                                                                        (4)->(10) \n",
      "       56        56 0.5045045 0.5490196 0.6925134                                                                         (4)->(3) \n",
      "       79        79 0.7117117 0.7745098 0.8428489                                                                         (4)->(4) \n",
      "       77        77 0.6936937 0.7549020 0.7980392                                                                         (4)->(5) \n",
      "       83        83 0.7477477 0.8137255 0.8602241                                                                         (4)->(6) \n",
      "       80        80 0.7207207 0.7843137 0.8136339                                                                         (4)->(7) \n",
      "       77        77 0.6936937 0.7549020 0.7831226                                                                         (4)->(8) \n",
      "       83        83 0.7477477 0.8137255 0.8363290                                                                         (4)->(9) \n",
      "      105       701 0.9459459       N/A       N/A                                                                              (5) \n",
      "       57        57 0.5135135 0.5428571 0.6847403                                                                        (5)->(10) \n",
      "       73        73 0.6576577 0.6952381 0.7565826                                                                         (5)->(4) \n",
      "       77        77 0.6936937 0.7333333 0.7752381                                                                         (5)->(5) \n",
      "       85        85 0.7657658 0.8095238 0.8557823                                                                         (5)->(6) \n",
      "       78        78 0.7027027 0.7428571 0.7706275                                                                         (5)->(7) \n",
      "       78        78 0.7027027 0.7428571 0.7706275                                                                         (5)->(8) \n",
      "       80        80 0.7207207 0.7619048 0.7830688                                                                         (5)->(9) \n",
      "      105       748 0.9459459       N/A       N/A                                                                              (6) \n",
      "       60        60 0.5405405 0.5714286 0.7207792                                                                         (6)->(3) \n",
      "       74        74 0.6666667 0.7047619 0.7669468                                                                         (6)->(4) \n",
      "       80        80 0.7207207 0.7619048 0.8054422                                                                         (6)->(5) \n",
      "       82        82 0.7387387 0.7809524 0.8255782                                                                         (6)->(6) \n",
      "       72        72 0.6486486 0.6857143 0.7113485                                                                         (6)->(7) \n",
      "       78        78 0.7027027 0.7428571 0.7706275                                                                         (6)->(8) \n",
      "       83        83 0.7477477 0.7904762 0.8124339                                                                         (6)->(9) \n",
      "      107       692 0.9639640       N/A       N/A                                                                              (7) \n",
      "       60        60 0.5405405 0.5607477 0.7073067                                                                        (7)->(10) \n",
      "       61        61 0.5495495 0.5700935 0.7190952                                                                         (7)->(3) \n",
      "       72        72 0.6486486 0.6728972 0.7322705                                                                         (7)->(4) \n",
      "       76        76 0.6846847 0.7102804 0.7508678                                                                         (7)->(5) \n",
      "       85        85 0.7657658 0.7943925 0.8397864                                                                         (7)->(6) \n",
      "       72        72 0.6486486 0.6728972 0.6980522                                                                         (7)->(7) \n",
      "       76        76 0.6846847 0.7102804 0.7368329                                                                         (7)->(8) \n",
      "       82        82 0.7387387 0.7663551 0.7876428                                                                         (7)->(9) \n",
      "      107       701 0.9639640       N/A       N/A                                                                              (8) \n",
      "       62        62 0.5585586 0.5794393 0.7308836                                                                        (8)->(10) \n",
      "       61        61 0.5495495 0.5700935 0.7190952                                                                         (8)->(3) \n",
      "       82        82 0.7387387 0.7663551 0.8339747                                                                         (8)->(4) \n",
      "       85        85 0.7657658 0.7943925 0.8397864                                                                         (8)->(5) \n",
      "       89        89 0.8018018 0.8317757 0.8793057                                                                         (8)->(6) \n",
      "       83        83 0.7477477 0.7757009 0.8046991                                                                         (8)->(7) \n",
      "       79        79 0.7117117 0.7383178 0.7659184                                                                         (8)->(8) \n",
      "       85        85 0.7657658 0.7943925 0.8164590                                                                         (8)->(9) \n",
      "      108       742 0.9729730       N/A       N/A                                                                              (9) \n",
      "       60        60 0.5405405 0.5555556 0.7007576                                                                        (9)->(10) \n",
      "       66        66 0.5945946 0.6111111 0.7708333                                                                         (9)->(3) \n",
      "       78        78 0.7027027 0.7222222 0.7859477                                                                         (9)->(4) \n",
      "       80        80 0.7207207 0.7407407 0.7830688                                                                         (9)->(5) \n",
      "       87        87 0.7837838 0.8055556 0.8515873                                                                         (9)->(6) \n",
      "       81        81 0.7297297 0.7500000 0.7780374                                                                         (9)->(7) \n",
      "       83        83 0.7477477 0.7685185 0.7972482                                                                         (9)->(8) \n",
      "       83        83 0.7477477 0.7685185 0.7898663                                                                         (9)->(9) \n"
     ]
    }
   ],
   "source": [
    "print_result(result)\n"
   ]
  },
  {
   "cell_type": "code",
   "execution_count": 27,
   "metadata": {},
   "outputs": [
    {
     "ename": "KeyError",
     "evalue": "'mined'",
     "output_type": "error",
     "traceback": [
      "\u001b[1;31m---------------------------------------------------------------------------\u001b[0m",
      "\u001b[1;31mKeyError\u001b[0m                                  Traceback (most recent call last)",
      "\u001b[1;32m<ipython-input-27-b11c950c85c8>\u001b[0m in \u001b[0;36m<module>\u001b[1;34m\u001b[0m\n\u001b[0;32m      1\u001b[0m \u001b[0mresult\u001b[0m \u001b[1;33m=\u001b[0m \u001b[0mspade\u001b[0m\u001b[1;33m(\u001b[0m\u001b[0mfilename\u001b[0m\u001b[1;33m=\u001b[0m\u001b[1;34m'data1.txt'\u001b[0m\u001b[1;33m,\u001b[0m \u001b[0msupport\u001b[0m\u001b[1;33m=\u001b[0m\u001b[1;36m0.5\u001b[0m\u001b[1;33m,\u001b[0m \u001b[0mparse\u001b[0m\u001b[1;33m=\u001b[0m\u001b[1;32mFalse\u001b[0m\u001b[1;33m)\u001b[0m\u001b[1;33m\u001b[0m\u001b[1;33m\u001b[0m\u001b[0m\n\u001b[1;32m----> 2\u001b[1;33m \u001b[0mprint\u001b[0m\u001b[1;33m(\u001b[0m\u001b[0mresult\u001b[0m\u001b[1;33m[\u001b[0m\u001b[1;34m'mined'\u001b[0m\u001b[1;33m]\u001b[0m\u001b[1;33m)\u001b[0m\u001b[1;33m\u001b[0m\u001b[1;33m\u001b[0m\u001b[0m\n\u001b[0m",
      "\u001b[1;31mKeyError\u001b[0m: 'mined'"
     ]
    }
   ],
   "source": []
  },
  {
   "cell_type": "code",
   "execution_count": null,
   "metadata": {},
   "outputs": [],
   "source": []
  }
 ],
 "metadata": {
  "kernelspec": {
   "display_name": "Python 3",
   "language": "python",
   "name": "python3"
  },
  "language_info": {
   "codemirror_mode": {
    "name": "ipython",
    "version": 3
   },
   "file_extension": ".py",
   "mimetype": "text/x-python",
   "name": "python",
   "nbconvert_exporter": "python",
   "pygments_lexer": "ipython3",
   "version": "3.7.2"
  }
 },
 "nbformat": 4,
 "nbformat_minor": 2
}
